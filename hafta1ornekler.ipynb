{
 "cells": [
  {
   "cell_type": "code",
   "execution_count": null,
   "id": "66d9ab13-73af-49d9-8fef-aefcd19a9dd6",
   "metadata": {},
   "outputs": [],
   "source": []
  }
 ],
 "metadata": {
  "kernelspec": {
   "display_name": "",
   "name": ""
  },
  "language_info": {
   "name": ""
  }
 },
 "nbformat": 4,
 "nbformat_minor": 5
}
