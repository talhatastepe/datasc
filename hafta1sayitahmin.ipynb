{
 "cells": [
  {
   "cell_type": "code",
   "execution_count": null,
   "id": "172832c7-0e59-4dac-bbfc-ffea83cc0290",
   "metadata": {},
   "outputs": [],
   "source": [
    " #sayı tahmin oyunu tekrar.\n",
    "import random\n",
    "import time\n",
    "\n",
    "print(\"--- Sayı Tahmin Oyununa Hoş Geldiniz! ---\")\n",
    "print(\"1 ile 100 arasında bir sayı tuttum. 5 hakkınız var.\")\n",
    "\n",
    "rastgele = random.randint(1, 100)\n",
    "tahmin_hakki = 5\n",
    "\n",
    "while True:\n",
    "    tahmin_str = input(f\"\\nKalan hakkınız: {tahmin_hakki} | Tahmininizi girin: \")\n",
    "    \n",
    "    if not tahmin_str.isdigit():\n",
    "        print(\"Lütfen sadece sayı giriniz!\")\n",
    "        continue\n",
    "\n",
    "    tahmin = int(tahmin_str)\n",
    "    \n",
    "    print(\"Kontrol ediliyor...\")\n",
    "    time.sleep(1)\n",
    "    \n",
    "    if tahmin == rastgele:\n",
    "        print(f\"Tebrikler, doğru tahmin! Tuttuğum sayı {rastgele} idi.\")\n",
    "        break\n",
    "    elif tahmin < rastgele:\n",
    "        print(\"Daha BÜYÜK bir sayı söylemelisiniz.\")\n",
    "        tahmin_hakki -= 1\n",
    "    elif tahmin > rastgele:\n",
    "        print(\"Daha KÜÇÜK bir sayı söylemelisiniz.\")\n",
    "        tahmin_hakki -= 1\n",
    "        \n",
    "    if tahmin_hakki == 0:\n",
    "        print(f\"\\nHakkınız bitti. Oyunu kaybettiniz. Tuttuğum sayı {rastgele} idi.\")\n",
    "        break"
   ]
  }
 ],
 "metadata": {
  "kernelspec": {
   "display_name": "Python [conda env:base] *",
   "language": "python",
   "name": "conda-base-py"
  },
  "language_info": {
   "codemirror_mode": {
    "name": "ipython",
    "version": 3
   },
   "file_extension": ".py",
   "mimetype": "text/x-python",
   "name": "python",
   "nbconvert_exporter": "python",
   "pygments_lexer": "ipython3",
   "version": "3.12.7"
  }
 },
 "nbformat": 4,
 "nbformat_minor": 5
}
